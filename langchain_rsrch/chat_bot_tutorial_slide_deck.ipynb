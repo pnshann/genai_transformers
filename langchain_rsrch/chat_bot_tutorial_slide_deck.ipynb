{
 "cells": [
  {
   "cell_type": "code",
   "execution_count": null,
   "id": "b7f297c7-5a69-4792-b811-0bc3e8964b8a",
   "metadata": {},
   "outputs": [],
   "source": [
    "#!pip install google-generativeai"
   ]
  },
  {
   "cell_type": "code",
   "execution_count": 13,
   "id": "4329ec47-5619-49f2-875c-a91570428afc",
   "metadata": {},
   "outputs": [],
   "source": [
    "from langchain.llms import HuggingFaceHub\n",
    "from langchain.prompts import PromptTemplate\n",
    "from langchain.chains import LLMChain\n",
    "#from langchain.embeddings import HuggingFaceHubEmbeddings\n",
    "#from langchain.text_splitter import CharacterTextSplitter\n",
    "import os"
   ]
  },
  {
   "cell_type": "code",
   "execution_count": 18,
   "id": "89b4f8ac-aa84-435f-899f-9d773d9b6fd8",
   "metadata": {},
   "outputs": [],
   "source": [
    "os.environ['HUGGINGFACEHUB_API_TOKEN'] =\"\"\n",
    "os.environ[\"GOOGLE_API_KEY\"] = \"\""
   ]
  },
  {
   "cell_type": "code",
   "execution_count": null,
   "id": "11f7a630-a88a-4baf-a4f9-60e20abeed0a",
   "metadata": {},
   "outputs": [],
   "source": [
    "from langchain.chat_models import ChatGooglePalm # importing the chat model Palm from Google\n",
    "from langchain.prompts.chat import ChatPromptTemplate # needed to create prompt template\n",
    "from langchain.schema import BaseOutputParser # used to create output parser\n",
    "\n",
    "# calling our language model, which is a chatmodel for this use case\n",
    "chat_model = ChatGooglePalm()\n",
    "\n",
    "# this template serves as the instructions that the language model will follow & tells it what to expect as an input and produce as an output\n",
    "template = \"\"\"You are a helpful assistant who generates comma separated lists.\n",
    "A user will pass in a category, and you should generate 5 objects in that category in a comma separated list.\n",
    "ONLY return a comma separated list, and nothing more.\"\"\"\n",
    "human_template = \"{text}\"\n",
    "# assigning roles to the model and user and providing the template to expect for each relationship\n",
    "chat_prompt = ChatPromptTemplate.from_messages([\n",
    "    (\"system\", template),\n",
    "    (\"human\", human_template),\n",
    "])\n",
    "\n",
    "class CommaSeparatedListOutputParser(BaseOutputParser):\n",
    "    \"\"\"Parse the output of an LLM call to a comma-separated list.\"\"\"\n",
    "    def parse(self, text: str):\n",
    "        \"\"\"Parse the output of an LLM call.\"\"\"\n",
    "        return text.strip().split(\", \")\n",
    "\n",
    "# using the Langchain Expression Language (|), combining our three requirements to create a chain!\n",
    "chain = chat_prompt | ChatGooglePalm() | CommaSeparatedListOutputParser()\n",
    "chain.invoke({\"text\": \"animals\"})\n",
    "# ['Here are 5 animals:\\n\\n* Dog\\n* Cat\\n* Horse\\n* Cow\\n* Chicken']"
   ]
  }
 ],
 "metadata": {
  "kernelspec": {
   "display_name": "Python 3 (ipykernel)",
   "language": "python",
   "name": "python3"
  },
  "language_info": {
   "codemirror_mode": {
    "name": "ipython",
    "version": 3
   },
   "file_extension": ".py",
   "mimetype": "text/x-python",
   "name": "python",
   "nbconvert_exporter": "python",
   "pygments_lexer": "ipython3",
   "version": "3.11.4"
  }
 },
 "nbformat": 4,
 "nbformat_minor": 5
}
